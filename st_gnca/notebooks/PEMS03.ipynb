{
 "cells": [
  {
   "cell_type": "markdown",
   "id": "460536ed",
   "metadata": {},
   "source": [
    "## PEMS03 EDA"
   ]
  },
  {
   "cell_type": "code",
   "execution_count": 1,
   "id": "bc057e04",
   "metadata": {},
   "outputs": [],
   "source": [
    "import pandas as pd \n",
    "import numpy as np\n",
    "import sys\n",
    "import os\n",
    "sys.path.append(os.path.abspath('..'))"
   ]
  },
  {
   "cell_type": "code",
   "execution_count": 2,
   "id": "b5b0fe72",
   "metadata": {},
   "outputs": [
    {
     "data": {
      "text/html": [
       "<div>\n",
       "<style scoped>\n",
       "    .dataframe tbody tr th:only-of-type {\n",
       "        vertical-align: middle;\n",
       "    }\n",
       "\n",
       "    .dataframe tbody tr th {\n",
       "        vertical-align: top;\n",
       "    }\n",
       "\n",
       "    .dataframe thead th {\n",
       "        text-align: right;\n",
       "    }\n",
       "</style>\n",
       "<table border=\"1\" class=\"dataframe\">\n",
       "  <thead>\n",
       "    <tr style=\"text-align: right;\">\n",
       "      <th></th>\n",
       "      <th>timestamp</th>\n",
       "      <th>313344</th>\n",
       "      <th>313349</th>\n",
       "      <th>313438</th>\n",
       "      <th>313450</th>\n",
       "      <th>313487</th>\n",
       "      <th>313493</th>\n",
       "      <th>313512</th>\n",
       "      <th>313551</th>\n",
       "      <th>313552</th>\n",
       "      <th>...</th>\n",
       "      <th>313144</th>\n",
       "      <th>313159</th>\n",
       "      <th>313166</th>\n",
       "      <th>313172</th>\n",
       "      <th>313178</th>\n",
       "      <th>313184</th>\n",
       "      <th>313190</th>\n",
       "      <th>313197</th>\n",
       "      <th>313204</th>\n",
       "      <th>313339</th>\n",
       "    </tr>\n",
       "  </thead>\n",
       "  <tbody>\n",
       "    <tr>\n",
       "      <th>0</th>\n",
       "      <td>2018-09-01 00:00:00</td>\n",
       "      <td>20.0</td>\n",
       "      <td>20.0</td>\n",
       "      <td>182.0</td>\n",
       "      <td>182.0</td>\n",
       "      <td>91.0</td>\n",
       "      <td>182.0</td>\n",
       "      <td>136.0</td>\n",
       "      <td>91.0</td>\n",
       "      <td>91.0</td>\n",
       "      <td>...</td>\n",
       "      <td>158.0</td>\n",
       "      <td>63.0</td>\n",
       "      <td>63.0</td>\n",
       "      <td>63.0</td>\n",
       "      <td>125.0</td>\n",
       "      <td>114.0</td>\n",
       "      <td>63.0</td>\n",
       "      <td>63.0</td>\n",
       "      <td>115.0</td>\n",
       "      <td>63.0</td>\n",
       "    </tr>\n",
       "    <tr>\n",
       "      <th>1</th>\n",
       "      <td>2018-09-01 00:05:00</td>\n",
       "      <td>22.0</td>\n",
       "      <td>22.0</td>\n",
       "      <td>174.0</td>\n",
       "      <td>174.0</td>\n",
       "      <td>87.0</td>\n",
       "      <td>174.0</td>\n",
       "      <td>131.0</td>\n",
       "      <td>87.0</td>\n",
       "      <td>87.0</td>\n",
       "      <td>...</td>\n",
       "      <td>158.0</td>\n",
       "      <td>62.0</td>\n",
       "      <td>62.0</td>\n",
       "      <td>62.0</td>\n",
       "      <td>144.0</td>\n",
       "      <td>109.0</td>\n",
       "      <td>62.0</td>\n",
       "      <td>63.0</td>\n",
       "      <td>109.0</td>\n",
       "      <td>62.0</td>\n",
       "    </tr>\n",
       "    <tr>\n",
       "      <th>2</th>\n",
       "      <td>2018-09-01 00:10:00</td>\n",
       "      <td>22.0</td>\n",
       "      <td>22.0</td>\n",
       "      <td>183.0</td>\n",
       "      <td>183.0</td>\n",
       "      <td>92.0</td>\n",
       "      <td>183.0</td>\n",
       "      <td>139.0</td>\n",
       "      <td>92.0</td>\n",
       "      <td>92.0</td>\n",
       "      <td>...</td>\n",
       "      <td>160.0</td>\n",
       "      <td>57.0</td>\n",
       "      <td>57.0</td>\n",
       "      <td>57.0</td>\n",
       "      <td>131.0</td>\n",
       "      <td>116.0</td>\n",
       "      <td>57.0</td>\n",
       "      <td>57.0</td>\n",
       "      <td>115.0</td>\n",
       "      <td>57.0</td>\n",
       "    </tr>\n",
       "    <tr>\n",
       "      <th>3</th>\n",
       "      <td>2018-09-01 00:15:00</td>\n",
       "      <td>50.0</td>\n",
       "      <td>49.0</td>\n",
       "      <td>137.0</td>\n",
       "      <td>139.0</td>\n",
       "      <td>60.0</td>\n",
       "      <td>158.0</td>\n",
       "      <td>111.0</td>\n",
       "      <td>57.0</td>\n",
       "      <td>55.0</td>\n",
       "      <td>...</td>\n",
       "      <td>174.0</td>\n",
       "      <td>109.0</td>\n",
       "      <td>30.0</td>\n",
       "      <td>58.0</td>\n",
       "      <td>106.0</td>\n",
       "      <td>102.0</td>\n",
       "      <td>52.0</td>\n",
       "      <td>111.0</td>\n",
       "      <td>88.0</td>\n",
       "      <td>48.0</td>\n",
       "    </tr>\n",
       "    <tr>\n",
       "      <th>4</th>\n",
       "      <td>2018-09-01 00:20:00</td>\n",
       "      <td>37.0</td>\n",
       "      <td>35.0</td>\n",
       "      <td>128.0</td>\n",
       "      <td>123.0</td>\n",
       "      <td>54.0</td>\n",
       "      <td>131.0</td>\n",
       "      <td>111.0</td>\n",
       "      <td>46.0</td>\n",
       "      <td>52.0</td>\n",
       "      <td>...</td>\n",
       "      <td>162.0</td>\n",
       "      <td>77.0</td>\n",
       "      <td>31.0</td>\n",
       "      <td>55.0</td>\n",
       "      <td>109.0</td>\n",
       "      <td>127.0</td>\n",
       "      <td>49.0</td>\n",
       "      <td>109.0</td>\n",
       "      <td>76.0</td>\n",
       "      <td>47.0</td>\n",
       "    </tr>\n",
       "  </tbody>\n",
       "</table>\n",
       "<p>5 rows × 359 columns</p>\n",
       "</div>"
      ],
      "text/plain": [
       "            timestamp  313344  313349  313438  313450  313487  313493  313512  \\\n",
       "0 2018-09-01 00:00:00    20.0    20.0   182.0   182.0    91.0   182.0   136.0   \n",
       "1 2018-09-01 00:05:00    22.0    22.0   174.0   174.0    87.0   174.0   131.0   \n",
       "2 2018-09-01 00:10:00    22.0    22.0   183.0   183.0    92.0   183.0   139.0   \n",
       "3 2018-09-01 00:15:00    50.0    49.0   137.0   139.0    60.0   158.0   111.0   \n",
       "4 2018-09-01 00:20:00    37.0    35.0   128.0   123.0    54.0   131.0   111.0   \n",
       "\n",
       "   313551  313552  ...  313144  313159  313166  313172  313178  313184  \\\n",
       "0    91.0    91.0  ...   158.0    63.0    63.0    63.0   125.0   114.0   \n",
       "1    87.0    87.0  ...   158.0    62.0    62.0    62.0   144.0   109.0   \n",
       "2    92.0    92.0  ...   160.0    57.0    57.0    57.0   131.0   116.0   \n",
       "3    57.0    55.0  ...   174.0   109.0    30.0    58.0   106.0   102.0   \n",
       "4    46.0    52.0  ...   162.0    77.0    31.0    55.0   109.0   127.0   \n",
       "\n",
       "   313190  313197  313204  313339  \n",
       "0    63.0    63.0   115.0    63.0  \n",
       "1    62.0    63.0   109.0    62.0  \n",
       "2    57.0    57.0   115.0    57.0  \n",
       "3    52.0   111.0    88.0    48.0  \n",
       "4    49.0   109.0    76.0    47.0  \n",
       "\n",
       "[5 rows x 359 columns]"
      ]
     },
     "execution_count": 2,
     "metadata": {},
     "output_type": "execute_result"
    }
   ],
   "source": [
    "df = pd.read_csv('../datasets/PEMS03/data.csv', parse_dates=['timestamp'])\n",
    "df.head()"
   ]
  },
  {
   "cell_type": "code",
   "execution_count": 19,
   "id": "b2df0556",
   "metadata": {},
   "outputs": [
    {
     "name": "stdout",
     "output_type": "stream",
     "text": [
      "(26208, 359)\n",
      "Index(['timestamp', '313344', '313349', '313438', '313450', '313487', '313493',\n",
      "       '313512', '313551', '313552',\n",
      "       ...\n",
      "       '313144', '313159', '313166', '313172', '313178', '313184', '313190',\n",
      "       '313197', '313204', '313339'],\n",
      "      dtype='object', length=359)\n",
      "<class 'pandas.core.series.Series'>\n"
     ]
    }
   ],
   "source": [
    "print(df.shape)\n",
    "print(df.columns)\n",
    "print(type(df['timestamp']))\n",
    "# 26208 registros , 358 estacões"
   ]
  },
  {
   "cell_type": "code",
   "execution_count": 28,
   "id": "1d80d14f",
   "metadata": {},
   "outputs": [
    {
     "name": "stdout",
     "output_type": "stream",
     "text": [
      "No missing values\n"
     ]
    }
   ],
   "source": [
    "# Print columns with missing values if any, else print 'No missing values'\n",
    "missing = df.isna().sum()\n",
    "if (missing > 0).any():\n",
    "    print(missing[missing > 0])\n",
    "else:\n",
    "    print('No missing values')"
   ]
  },
  {
   "cell_type": "code",
   "execution_count": 3,
   "id": "5faef0d8",
   "metadata": {},
   "outputs": [
    {
     "name": "stdout",
     "output_type": "stream",
     "text": [
      "original - <class 'pandas._libs.tslibs.timestamps.Timestamp'>\n",
      "original - [Timestamp('2018-09-08 00:00:00')]\n"
     ]
    }
   ],
   "source": [
    "from embeddings.temporal import TemporalEmbedding,SinusoidalTemporalEncoding\n",
    "\n",
    "# Create the embedding\n",
    "print(f'original - {type(df['timestamp'].iloc[0])}')\n",
    "print(f'original - {[df['timestamp'].iloc[2016]]}')\n",
    "\n",
    "\n",
    "# Instantiate temporal embedding\n",
    "temb = SinusoidalTemporalEncoding(df['timestamp'])\n"
   ]
  },
  {
   "cell_type": "code",
   "execution_count": 4,
   "id": "fbce19ca",
   "metadata": {},
   "outputs": [
    {
     "name": "stdout",
     "output_type": "stream",
     "text": [
      "All embeddings are unique.\n"
     ]
    }
   ],
   "source": [
    "import torch\n",
    "import numpy as np\n",
    "\n",
    "# Stack all embeddings into a single tensor\n",
    "all_embs = torch.stack(list(temb.embeddings.values())).cpu().numpy()\n",
    "\n",
    "# Find duplicates\n",
    "_, idx, counts = np.unique(all_embs, axis=0, return_index=True, return_counts=True)\n",
    "has_duplicates = np.any(counts > 1)\n",
    "if has_duplicates:\n",
    "    print(\"There are duplicate embeddings.\")\n",
    "    dup_vals = all_embs[np.where(counts > 1)[0]]\n",
    "    for val in dup_vals:\n",
    "        lines = np.where((all_embs == val).all(axis=1))[0]\n",
    "        print(f\"Duplicate embedding: {val}, at lines: {lines}\")\n",
    "else:\n",
    "    print(\"All embeddings are unique.\")"
   ]
  }
 ],
 "metadata": {
  "kernelspec": {
   "display_name": ".venv",
   "language": "python",
   "name": "python3"
  },
  "language_info": {
   "codemirror_mode": {
    "name": "ipython",
    "version": 3
   },
   "file_extension": ".py",
   "mimetype": "text/x-python",
   "name": "python",
   "nbconvert_exporter": "python",
   "pygments_lexer": "ipython3",
   "version": "3.13.5"
  }
 },
 "nbformat": 4,
 "nbformat_minor": 5
}
