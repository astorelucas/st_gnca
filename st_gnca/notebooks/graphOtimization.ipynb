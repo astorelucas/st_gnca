{
 "cells": [
  {
   "cell_type": "markdown",
   "id": "ad9a408f",
   "metadata": {},
   "source": [
    "## Search for most important nodes in a graph given its matrix adjacency\n",
    "\n",
    "Fazer um preprocessamento dos dados antes de treinar o modelo global, de identificar os nós mais importantes e ir inserindo nós pra mostrar a flexibilidade do modelo\n",
    "\n",
    "Betweenness centrality (nodes that connect different parts of the graph)\n"
   ]
  },
  {
   "cell_type": "code",
   "execution_count": 19,
   "id": "7cee02f7",
   "metadata": {},
   "outputs": [
    {
     "name": "stdout",
     "output_type": "stream",
     "text": [
      "[314371, 315017, 314121, 316045, 313111, 312343, 313114, 315804, 317853, 318620, 316063, 316064, 312865, 312098, 318632, 312745, 316328, 313132, 314668, 315054, 318383, 316084, 314936, 313658, 317884, 314559, 318282, 312139, 314955, 316364, 314968, 315993, 311903, 313951, 316387, 316388, 314982, 316009, 317168, 312689, 316018, 318451, 316019, 312694, 312439, 311930, 313852, 316414]\n"
     ]
    }
   ],
   "source": [
    "import pandas as pd\n",
    "import networkx as nx\n",
    "\n",
    "# Load the edge list CSV\n",
    "edges = pd.read_csv(\"../data/PEMS03/edges.csv\") \n",
    "\n",
    "# Create undirected weighted graph\n",
    "G = nx.from_pandas_edgelist(edges, source='source', target='target', edge_attr='weight', create_using=nx.Graph)\n",
    "\n",
    "# Compute betweenness centrality\n",
    "centrality = nx.betweenness_centrality(G, weight='weight')\n",
    "\n",
    "# Get top-N nodes\n",
    "top_n = 50\n",
    "top_nodes = sorted(centrality, key=centrality.get, reverse=True)[:top_n]\n",
    "# Induce subgraph with top-N nodes\n",
    "top_subgraph = G.subgraph(top_nodes)\n",
    "# Remove nodes with no edges in the subgraph\n",
    "top_nodes_connected = [n for n in top_subgraph.nodes if top_subgraph.degree(n) > 0]\n",
    "print(top_nodes_connected)\n",
    "# Recreate subgraph with only connected nodes\n",
    "top_subgraph = G.subgraph(top_nodes_connected)\n",
    "\n",
    "# Convert to adjacency matrix (as a DataFrame)\n",
    "adj_matrix_top = nx.to_pandas_adjacency(top_subgraph, dtype=float)\n",
    "\n",
    "# Save adjacency matrix to CSV\n",
    "adj_matrix_top.to_csv(\"top_nodes_adj_matrix.csv\")\n"
   ]
  },
  {
   "cell_type": "code",
   "execution_count": 21,
   "id": "4c54f513",
   "metadata": {},
   "outputs": [],
   "source": [
    "edges_top = pd.DataFrame(\n",
    "    [(u, v, d['weight']) for u, v, d in top_subgraph.edges(data=True)],\n",
    "    columns=['source', 'target', 'weight']\n",
    ")\n",
    "\n",
    "# Save edges to CSV without index column\n",
    "edges_top.to_csv(\"edges_top.csv\", index=False)\n"
   ]
  },
  {
   "cell_type": "code",
   "execution_count": 22,
   "id": "a9c153e6",
   "metadata": {},
   "outputs": [],
   "source": [
    "# Load the node metadata CSV\n",
    "nodes = pd.read_csv(\"../data/PEMS03/nodes.csv\")\n",
    "\n",
    "# Filter to only nodes in top_nodes_connected\n",
    "nodes_top = nodes[nodes['sensor'].isin(top_nodes_connected)]\n",
    "nodes_top.to_csv(\"nodes_top.csv\", index=False)\n",
    "\n",
    "# Load the data CSV\n",
    "data = pd.read_csv(\"../data/PEMS03/data.csv\")\n",
    "\n",
    "# Filter to only columns corresponding to top_nodes_connected (plus timestamp)\n",
    "columns_to_keep = ['timestamp'] + [str(n) for n in top_nodes_connected]\n",
    "data_top = data[columns_to_keep]\n",
    "data_top.to_csv(\"data_top.csv\", index=False)\n",
    "\n"
   ]
  }
 ],
 "metadata": {
  "kernelspec": {
   "display_name": ".venv",
   "language": "python",
   "name": "python3"
  },
  "language_info": {
   "codemirror_mode": {
    "name": "ipython",
    "version": 3
   },
   "file_extension": ".py",
   "mimetype": "text/x-python",
   "name": "python",
   "nbconvert_exporter": "python",
   "pygments_lexer": "ipython3",
   "version": "3.13.5"
  }
 },
 "nbformat": 4,
 "nbformat_minor": 5
}
